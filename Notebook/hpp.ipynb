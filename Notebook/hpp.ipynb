{
 "cells": [
  {
   "cell_type": "code",
   "execution_count": 2,
   "metadata": {},
   "outputs": [],
   "source": [
    "import pandas as pd\n",
    "import numpy as np\n",
    "import matplotlib\n",
    "import matplotlib.pyplot as plt\n",
    "matplotlib.rcParams['figure.figsize'] = (20, 10)  # what this line does?  # set the default figure size of the plots to 20x10\n",
    "import warnings\n",
    "warnings.filterwarnings('ignore')\n",
    "%matplotlib inline"
   ]
  },
  {
   "cell_type": "code",
   "execution_count": 3,
   "metadata": {},
   "outputs": [
    {
     "data": {
      "text/html": [
       "<div>\n",
       "<style scoped>\n",
       "    .dataframe tbody tr th:only-of-type {\n",
       "        vertical-align: middle;\n",
       "    }\n",
       "\n",
       "    .dataframe tbody tr th {\n",
       "        vertical-align: top;\n",
       "    }\n",
       "\n",
       "    .dataframe thead th {\n",
       "        text-align: right;\n",
       "    }\n",
       "</style>\n",
       "<table border=\"1\" class=\"dataframe\">\n",
       "  <thead>\n",
       "    <tr style=\"text-align: right;\">\n",
       "      <th></th>\n",
       "      <th>BHK</th>\n",
       "      <th>project</th>\n",
       "      <th>Location</th>\n",
       "      <th>City</th>\n",
       "      <th>Total sqft</th>\n",
       "      <th>price_sqft</th>\n",
       "      <th>price</th>\n",
       "    </tr>\n",
       "  </thead>\n",
       "  <tbody>\n",
       "    <tr>\n",
       "      <th>0</th>\n",
       "      <td>3 BHK Apartment</td>\n",
       "      <td>SHREE KRISHNA SangamChembur</td>\n",
       "      <td>Chembur</td>\n",
       "      <td>Mumbai</td>\n",
       "      <td>984</td>\n",
       "      <td>31,000</td>\n",
       "      <td>3.05 Cr</td>\n",
       "    </tr>\n",
       "    <tr>\n",
       "      <th>1</th>\n",
       "      <td>2 BHK Apartment</td>\n",
       "      <td>Ekdanta 24 KaratKurla</td>\n",
       "      <td>Kurla</td>\n",
       "      <td>Mumbai</td>\n",
       "      <td>598</td>\n",
       "      <td>23,913</td>\n",
       "      <td>1.42 Cr</td>\n",
       "    </tr>\n",
       "    <tr>\n",
       "      <th>2</th>\n",
       "      <td>2 BHK Apartment</td>\n",
       "      <td>Liberty Bay VueMalad West</td>\n",
       "      <td>Malad West</td>\n",
       "      <td>Mumbai</td>\n",
       "      <td>738</td>\n",
       "      <td>21,000</td>\n",
       "      <td>1.54 Cr</td>\n",
       "    </tr>\n",
       "    <tr>\n",
       "      <th>3</th>\n",
       "      <td>3 BHK Apartment</td>\n",
       "      <td>Thalia Vrindavan FloraRasayani</td>\n",
       "      <td>Rasayani</td>\n",
       "      <td>Mumbai</td>\n",
       "      <td>644</td>\n",
       "      <td>10,676</td>\n",
       "      <td>68.75 L</td>\n",
       "    </tr>\n",
       "    <tr>\n",
       "      <th>4</th>\n",
       "      <td>2 BHK Apartment</td>\n",
       "      <td>Mayfair The ViewVikhroli</td>\n",
       "      <td>Vikhroli</td>\n",
       "      <td>Mumbai</td>\n",
       "      <td>582</td>\n",
       "      <td>24,914</td>\n",
       "      <td>1.45 Cr</td>\n",
       "    </tr>\n",
       "    <tr>\n",
       "      <th>...</th>\n",
       "      <td>...</td>\n",
       "      <td>...</td>\n",
       "      <td>...</td>\n",
       "      <td>...</td>\n",
       "      <td>...</td>\n",
       "      <td>...</td>\n",
       "      <td>...</td>\n",
       "    </tr>\n",
       "    <tr>\n",
       "      <th>3975</th>\n",
       "      <td>2 BHK Apartment</td>\n",
       "      <td>Global Prestige Wing EVasai</td>\n",
       "      <td>Vasai</td>\n",
       "      <td>Mumbai</td>\n",
       "      <td>966</td>\n",
       "      <td>4,968</td>\n",
       "      <td>48 L</td>\n",
       "    </tr>\n",
       "    <tr>\n",
       "      <th>3976</th>\n",
       "      <td>1 BHK Apartment</td>\n",
       "      <td>Unicorn Unicorn Global ArenaNaigaon East</td>\n",
       "      <td>Naigaon East</td>\n",
       "      <td>Mumbai</td>\n",
       "      <td>500</td>\n",
       "      <td>5,200</td>\n",
       "      <td>26 L</td>\n",
       "    </tr>\n",
       "    <tr>\n",
       "      <th>3977</th>\n",
       "      <td>1 BHK Apartment</td>\n",
       "      <td>Navkar Navkar CityNaigaon East</td>\n",
       "      <td>Naigaon East</td>\n",
       "      <td>Mumbai</td>\n",
       "      <td>610</td>\n",
       "      <td>5,573</td>\n",
       "      <td>34 L</td>\n",
       "    </tr>\n",
       "    <tr>\n",
       "      <th>3978</th>\n",
       "      <td>1 BHK Apartment</td>\n",
       "      <td>Navkar City Phase I Part 3Naigaon East</td>\n",
       "      <td>Naigaon East</td>\n",
       "      <td>Mumbai</td>\n",
       "      <td>610</td>\n",
       "      <td>5,245</td>\n",
       "      <td>32 L</td>\n",
       "    </tr>\n",
       "    <tr>\n",
       "      <th>3979</th>\n",
       "      <td>1 BHK Apartment</td>\n",
       "      <td>Navkar City Phase I Part 1Naigaon East</td>\n",
       "      <td>Naigaon East</td>\n",
       "      <td>Mumbai</td>\n",
       "      <td>590</td>\n",
       "      <td>6,101</td>\n",
       "      <td>36 L</td>\n",
       "    </tr>\n",
       "  </tbody>\n",
       "</table>\n",
       "<p>3980 rows × 7 columns</p>\n",
       "</div>"
      ],
      "text/plain": [
       "                  BHK                                   project      Location  \\\n",
       "0     3 BHK Apartment               SHREE KRISHNA SangamChembur       Chembur   \n",
       "1     2 BHK Apartment                     Ekdanta 24 KaratKurla         Kurla   \n",
       "2     2 BHK Apartment                 Liberty Bay VueMalad West    Malad West   \n",
       "3     3 BHK Apartment            Thalia Vrindavan FloraRasayani      Rasayani   \n",
       "4     2 BHK Apartment                  Mayfair The ViewVikhroli      Vikhroli   \n",
       "...               ...                                       ...           ...   \n",
       "3975  2 BHK Apartment               Global Prestige Wing EVasai         Vasai   \n",
       "3976  1 BHK Apartment  Unicorn Unicorn Global ArenaNaigaon East  Naigaon East   \n",
       "3977  1 BHK Apartment            Navkar Navkar CityNaigaon East  Naigaon East   \n",
       "3978  1 BHK Apartment    Navkar City Phase I Part 3Naigaon East  Naigaon East   \n",
       "3979  1 BHK Apartment    Navkar City Phase I Part 1Naigaon East  Naigaon East   \n",
       "\n",
       "        City  Total sqft price_sqft    price  \n",
       "0     Mumbai         984     31,000  3.05 Cr  \n",
       "1     Mumbai         598     23,913  1.42 Cr  \n",
       "2     Mumbai         738     21,000  1.54 Cr  \n",
       "3     Mumbai         644     10,676  68.75 L  \n",
       "4     Mumbai         582     24,914  1.45 Cr  \n",
       "...      ...         ...        ...      ...  \n",
       "3975  Mumbai         966      4,968     48 L  \n",
       "3976  Mumbai         500      5,200     26 L  \n",
       "3977  Mumbai         610      5,573     34 L  \n",
       "3978  Mumbai         610      5,245     32 L  \n",
       "3979  Mumbai         590      6,101     36 L  \n",
       "\n",
       "[3980 rows x 7 columns]"
      ]
     },
     "execution_count": 3,
     "metadata": {},
     "output_type": "execute_result"
    }
   ],
   "source": [
    "df=pd.read_csv(\"../Data/house_price_mumbai.csv\")\n",
    "df"
   ]
  },
  {
   "cell_type": "code",
   "execution_count": 4,
   "metadata": {},
   "outputs": [
    {
     "data": {
      "text/plain": [
       "(3980, 7)"
      ]
     },
     "execution_count": 4,
     "metadata": {},
     "output_type": "execute_result"
    }
   ],
   "source": [
    "df.shape"
   ]
  },
  {
   "cell_type": "code",
   "execution_count": 5,
   "metadata": {},
   "outputs": [
    {
     "data": {
      "text/html": [
       "<div>\n",
       "<style scoped>\n",
       "    .dataframe tbody tr th:only-of-type {\n",
       "        vertical-align: middle;\n",
       "    }\n",
       "\n",
       "    .dataframe tbody tr th {\n",
       "        vertical-align: top;\n",
       "    }\n",
       "\n",
       "    .dataframe thead th {\n",
       "        text-align: right;\n",
       "    }\n",
       "</style>\n",
       "<table border=\"1\" class=\"dataframe\">\n",
       "  <thead>\n",
       "    <tr style=\"text-align: right;\">\n",
       "      <th></th>\n",
       "      <th>BHK</th>\n",
       "      <th>Location</th>\n",
       "      <th>Total sqft</th>\n",
       "      <th>price_sqft</th>\n",
       "      <th>price</th>\n",
       "    </tr>\n",
       "  </thead>\n",
       "  <tbody>\n",
       "    <tr>\n",
       "      <th>0</th>\n",
       "      <td>3 BHK Apartment</td>\n",
       "      <td>Chembur</td>\n",
       "      <td>984</td>\n",
       "      <td>31,000</td>\n",
       "      <td>3.05 Cr</td>\n",
       "    </tr>\n",
       "    <tr>\n",
       "      <th>1</th>\n",
       "      <td>2 BHK Apartment</td>\n",
       "      <td>Kurla</td>\n",
       "      <td>598</td>\n",
       "      <td>23,913</td>\n",
       "      <td>1.42 Cr</td>\n",
       "    </tr>\n",
       "    <tr>\n",
       "      <th>2</th>\n",
       "      <td>2 BHK Apartment</td>\n",
       "      <td>Malad West</td>\n",
       "      <td>738</td>\n",
       "      <td>21,000</td>\n",
       "      <td>1.54 Cr</td>\n",
       "    </tr>\n",
       "    <tr>\n",
       "      <th>3</th>\n",
       "      <td>3 BHK Apartment</td>\n",
       "      <td>Rasayani</td>\n",
       "      <td>644</td>\n",
       "      <td>10,676</td>\n",
       "      <td>68.75 L</td>\n",
       "    </tr>\n",
       "    <tr>\n",
       "      <th>4</th>\n",
       "      <td>2 BHK Apartment</td>\n",
       "      <td>Vikhroli</td>\n",
       "      <td>582</td>\n",
       "      <td>24,914</td>\n",
       "      <td>1.45 Cr</td>\n",
       "    </tr>\n",
       "    <tr>\n",
       "      <th>...</th>\n",
       "      <td>...</td>\n",
       "      <td>...</td>\n",
       "      <td>...</td>\n",
       "      <td>...</td>\n",
       "      <td>...</td>\n",
       "    </tr>\n",
       "    <tr>\n",
       "      <th>3975</th>\n",
       "      <td>2 BHK Apartment</td>\n",
       "      <td>Vasai</td>\n",
       "      <td>966</td>\n",
       "      <td>4,968</td>\n",
       "      <td>48 L</td>\n",
       "    </tr>\n",
       "    <tr>\n",
       "      <th>3976</th>\n",
       "      <td>1 BHK Apartment</td>\n",
       "      <td>Naigaon East</td>\n",
       "      <td>500</td>\n",
       "      <td>5,200</td>\n",
       "      <td>26 L</td>\n",
       "    </tr>\n",
       "    <tr>\n",
       "      <th>3977</th>\n",
       "      <td>1 BHK Apartment</td>\n",
       "      <td>Naigaon East</td>\n",
       "      <td>610</td>\n",
       "      <td>5,573</td>\n",
       "      <td>34 L</td>\n",
       "    </tr>\n",
       "    <tr>\n",
       "      <th>3978</th>\n",
       "      <td>1 BHK Apartment</td>\n",
       "      <td>Naigaon East</td>\n",
       "      <td>610</td>\n",
       "      <td>5,245</td>\n",
       "      <td>32 L</td>\n",
       "    </tr>\n",
       "    <tr>\n",
       "      <th>3979</th>\n",
       "      <td>1 BHK Apartment</td>\n",
       "      <td>Naigaon East</td>\n",
       "      <td>590</td>\n",
       "      <td>6,101</td>\n",
       "      <td>36 L</td>\n",
       "    </tr>\n",
       "  </tbody>\n",
       "</table>\n",
       "<p>3980 rows × 5 columns</p>\n",
       "</div>"
      ],
      "text/plain": [
       "                  BHK      Location  Total sqft price_sqft    price\n",
       "0     3 BHK Apartment       Chembur         984     31,000  3.05 Cr\n",
       "1     2 BHK Apartment         Kurla         598     23,913  1.42 Cr\n",
       "2     2 BHK Apartment    Malad West         738     21,000  1.54 Cr\n",
       "3     3 BHK Apartment      Rasayani         644     10,676  68.75 L\n",
       "4     2 BHK Apartment      Vikhroli         582     24,914  1.45 Cr\n",
       "...               ...           ...         ...        ...      ...\n",
       "3975  2 BHK Apartment         Vasai         966      4,968     48 L\n",
       "3976  1 BHK Apartment  Naigaon East         500      5,200     26 L\n",
       "3977  1 BHK Apartment  Naigaon East         610      5,573     34 L\n",
       "3978  1 BHK Apartment  Naigaon East         610      5,245     32 L\n",
       "3979  1 BHK Apartment  Naigaon East         590      6,101     36 L\n",
       "\n",
       "[3980 rows x 5 columns]"
      ]
     },
     "execution_count": 5,
     "metadata": {},
     "output_type": "execute_result"
    }
   ],
   "source": [
    "df2=df.drop(['project','City'],axis=\"columns\")\n",
    "df2"
   ]
  },
  {
   "cell_type": "code",
   "execution_count": 6,
   "metadata": {},
   "outputs": [
    {
     "data": {
      "text/plain": [
       "BHK           0\n",
       "Location      0\n",
       "Total sqft    0\n",
       "price_sqft    0\n",
       "price         0\n",
       "dtype: int64"
      ]
     },
     "execution_count": 6,
     "metadata": {},
     "output_type": "execute_result"
    }
   ],
   "source": [
    "df2.isnull().sum()"
   ]
  },
  {
   "cell_type": "code",
   "execution_count": 7,
   "metadata": {},
   "outputs": [
    {
     "data": {
      "text/plain": [
       "array(['3 BHK Apartment', '2 BHK Apartment', '1 BHK Independent House',\n",
       "       '1 BHK Apartment', '1 RK Studio Apartment', '1', '4 BHK Apartment',\n",
       "       'R', '3', '2', '5 BHK Independent Floor',\n",
       "       '6 BHK Independent Floor', '3 BHK Independent Floor',\n",
       "       '3 BHK Independent House', '3 BHK Villa', '4',\n",
       "       '2 BHK Independent Floor', '5', '2 RK Studio Apartment',\n",
       "       '5 BHK Independent House', '6', '5 BHK Apartment',\n",
       "       '2 BHK Independent House'], dtype=object)"
      ]
     },
     "execution_count": 7,
     "metadata": {},
     "output_type": "execute_result"
    }
   ],
   "source": [
    "df2[\"BHK\"].unique()"
   ]
  },
  {
   "cell_type": "code",
   "execution_count": 20,
   "metadata": {},
   "outputs": [],
   "source": [
    "values_to_drop = [\"1 BHK Independent House\", \"1 RK Studio Apartment\", \"5 BHK Independent Floor\", \"6 BHK Independent Floor\", \"3 BHK Independent Floor\",\"3 BHK Independent House\",\"3 BHK Villa\",\"2 BHK Independent Floor\",\"2 RK Studio Apartment\",\"5 BHK Independent House\",\"2 BHK Independent House\",\"R\",\"6\",\"BHK\"]"
   ]
  },
  {
   "cell_type": "code",
   "execution_count": 21,
   "metadata": {},
   "outputs": [],
   "source": [
    "mask = df2[\"BHK\"].isin(values_to_drop)"
   ]
  },
  {
   "cell_type": "code",
   "execution_count": 22,
   "metadata": {},
   "outputs": [
    {
     "data": {
      "text/html": [
       "<div>\n",
       "<style scoped>\n",
       "    .dataframe tbody tr th:only-of-type {\n",
       "        vertical-align: middle;\n",
       "    }\n",
       "\n",
       "    .dataframe tbody tr th {\n",
       "        vertical-align: top;\n",
       "    }\n",
       "\n",
       "    .dataframe thead th {\n",
       "        text-align: right;\n",
       "    }\n",
       "</style>\n",
       "<table border=\"1\" class=\"dataframe\">\n",
       "  <thead>\n",
       "    <tr style=\"text-align: right;\">\n",
       "      <th></th>\n",
       "      <th>BHK</th>\n",
       "      <th>Location</th>\n",
       "      <th>Total sqft</th>\n",
       "      <th>price_sqft</th>\n",
       "      <th>price</th>\n",
       "    </tr>\n",
       "  </thead>\n",
       "  <tbody>\n",
       "    <tr>\n",
       "      <th>0</th>\n",
       "      <td>3 BHK Apartment</td>\n",
       "      <td>Chembur</td>\n",
       "      <td>984</td>\n",
       "      <td>31,000</td>\n",
       "      <td>3.05 Cr</td>\n",
       "    </tr>\n",
       "    <tr>\n",
       "      <th>1</th>\n",
       "      <td>2 BHK Apartment</td>\n",
       "      <td>Kurla</td>\n",
       "      <td>598</td>\n",
       "      <td>23,913</td>\n",
       "      <td>1.42 Cr</td>\n",
       "    </tr>\n",
       "    <tr>\n",
       "      <th>2</th>\n",
       "      <td>2 BHK Apartment</td>\n",
       "      <td>Malad West</td>\n",
       "      <td>738</td>\n",
       "      <td>21,000</td>\n",
       "      <td>1.54 Cr</td>\n",
       "    </tr>\n",
       "    <tr>\n",
       "      <th>3</th>\n",
       "      <td>3 BHK Apartment</td>\n",
       "      <td>Rasayani</td>\n",
       "      <td>644</td>\n",
       "      <td>10,676</td>\n",
       "      <td>68.75 L</td>\n",
       "    </tr>\n",
       "    <tr>\n",
       "      <th>4</th>\n",
       "      <td>2 BHK Apartment</td>\n",
       "      <td>Vikhroli</td>\n",
       "      <td>582</td>\n",
       "      <td>24,914</td>\n",
       "      <td>1.45 Cr</td>\n",
       "    </tr>\n",
       "    <tr>\n",
       "      <th>...</th>\n",
       "      <td>...</td>\n",
       "      <td>...</td>\n",
       "      <td>...</td>\n",
       "      <td>...</td>\n",
       "      <td>...</td>\n",
       "    </tr>\n",
       "    <tr>\n",
       "      <th>3975</th>\n",
       "      <td>2 BHK Apartment</td>\n",
       "      <td>Vasai</td>\n",
       "      <td>966</td>\n",
       "      <td>4,968</td>\n",
       "      <td>48 L</td>\n",
       "    </tr>\n",
       "    <tr>\n",
       "      <th>3976</th>\n",
       "      <td>1 BHK Apartment</td>\n",
       "      <td>Naigaon East</td>\n",
       "      <td>500</td>\n",
       "      <td>5,200</td>\n",
       "      <td>26 L</td>\n",
       "    </tr>\n",
       "    <tr>\n",
       "      <th>3977</th>\n",
       "      <td>1 BHK Apartment</td>\n",
       "      <td>Naigaon East</td>\n",
       "      <td>610</td>\n",
       "      <td>5,573</td>\n",
       "      <td>34 L</td>\n",
       "    </tr>\n",
       "    <tr>\n",
       "      <th>3978</th>\n",
       "      <td>1 BHK Apartment</td>\n",
       "      <td>Naigaon East</td>\n",
       "      <td>610</td>\n",
       "      <td>5,245</td>\n",
       "      <td>32 L</td>\n",
       "    </tr>\n",
       "    <tr>\n",
       "      <th>3979</th>\n",
       "      <td>1 BHK Apartment</td>\n",
       "      <td>Naigaon East</td>\n",
       "      <td>590</td>\n",
       "      <td>6,101</td>\n",
       "      <td>36 L</td>\n",
       "    </tr>\n",
       "  </tbody>\n",
       "</table>\n",
       "<p>3620 rows × 5 columns</p>\n",
       "</div>"
      ],
      "text/plain": [
       "                  BHK      Location  Total sqft price_sqft    price\n",
       "0     3 BHK Apartment       Chembur         984     31,000  3.05 Cr\n",
       "1     2 BHK Apartment         Kurla         598     23,913  1.42 Cr\n",
       "2     2 BHK Apartment    Malad West         738     21,000  1.54 Cr\n",
       "3     3 BHK Apartment      Rasayani         644     10,676  68.75 L\n",
       "4     2 BHK Apartment      Vikhroli         582     24,914  1.45 Cr\n",
       "...               ...           ...         ...        ...      ...\n",
       "3975  2 BHK Apartment         Vasai         966      4,968     48 L\n",
       "3976  1 BHK Apartment  Naigaon East         500      5,200     26 L\n",
       "3977  1 BHK Apartment  Naigaon East         610      5,573     34 L\n",
       "3978  1 BHK Apartment  Naigaon East         610      5,245     32 L\n",
       "3979  1 BHK Apartment  Naigaon East         590      6,101     36 L\n",
       "\n",
       "[3620 rows x 5 columns]"
      ]
     },
     "execution_count": 22,
     "metadata": {},
     "output_type": "execute_result"
    }
   ],
   "source": [
    "df3=df2[~mask]\n",
    "df3"
   ]
  },
  {
   "cell_type": "code",
   "execution_count": 23,
   "metadata": {},
   "outputs": [
    {
     "data": {
      "text/plain": [
       "array(['3 BHK Apartment', '2 BHK Apartment', '1 BHK Apartment', '1',\n",
       "       '4 BHK Apartment', '3', '2', '4', '5', '5 BHK Apartment'],\n",
       "      dtype=object)"
      ]
     },
     "execution_count": 23,
     "metadata": {},
     "output_type": "execute_result"
    }
   ],
   "source": [
    "df3.BHK.unique()"
   ]
  },
  {
   "cell_type": "code",
   "execution_count": 24,
   "metadata": {},
   "outputs": [],
   "source": [
    "df3.BHK.replace({'1':'1 BHK Apartment','2':'2 BHK Apartment','3':'3 BHK Apartment','4':'BHK Apartment','5':'5 BHK Apartment'},inplace=True)"
   ]
  },
  {
   "cell_type": "code",
   "execution_count": 25,
   "metadata": {},
   "outputs": [
    {
     "data": {
      "text/plain": [
       "array(['3 BHK Apartment', '2 BHK Apartment', '1 BHK Apartment',\n",
       "       '4 BHK Apartment', 'BHK Apartment', '5 BHK Apartment'],\n",
       "      dtype=object)"
      ]
     },
     "execution_count": 25,
     "metadata": {},
     "output_type": "execute_result"
    }
   ],
   "source": [
    "df3.BHK.unique()"
   ]
  },
  {
   "cell_type": "code",
   "execution_count": 26,
   "metadata": {},
   "outputs": [
    {
     "data": {
      "text/html": [
       "<div>\n",
       "<style scoped>\n",
       "    .dataframe tbody tr th:only-of-type {\n",
       "        vertical-align: middle;\n",
       "    }\n",
       "\n",
       "    .dataframe tbody tr th {\n",
       "        vertical-align: top;\n",
       "    }\n",
       "\n",
       "    .dataframe thead th {\n",
       "        text-align: right;\n",
       "    }\n",
       "</style>\n",
       "<table border=\"1\" class=\"dataframe\">\n",
       "  <thead>\n",
       "    <tr style=\"text-align: right;\">\n",
       "      <th></th>\n",
       "      <th>BHK</th>\n",
       "      <th>Location</th>\n",
       "      <th>Total sqft</th>\n",
       "      <th>price_sqft</th>\n",
       "      <th>price</th>\n",
       "    </tr>\n",
       "  </thead>\n",
       "  <tbody>\n",
       "    <tr>\n",
       "      <th>0</th>\n",
       "      <td>3 BHK Apartment</td>\n",
       "      <td>Chembur</td>\n",
       "      <td>984</td>\n",
       "      <td>31,000</td>\n",
       "      <td>3.05 Cr</td>\n",
       "    </tr>\n",
       "    <tr>\n",
       "      <th>1</th>\n",
       "      <td>2 BHK Apartment</td>\n",
       "      <td>Kurla</td>\n",
       "      <td>598</td>\n",
       "      <td>23,913</td>\n",
       "      <td>1.42 Cr</td>\n",
       "    </tr>\n",
       "    <tr>\n",
       "      <th>2</th>\n",
       "      <td>2 BHK Apartment</td>\n",
       "      <td>Malad West</td>\n",
       "      <td>738</td>\n",
       "      <td>21,000</td>\n",
       "      <td>1.54 Cr</td>\n",
       "    </tr>\n",
       "    <tr>\n",
       "      <th>3</th>\n",
       "      <td>3 BHK Apartment</td>\n",
       "      <td>Rasayani</td>\n",
       "      <td>644</td>\n",
       "      <td>10,676</td>\n",
       "      <td>68.75 L</td>\n",
       "    </tr>\n",
       "    <tr>\n",
       "      <th>4</th>\n",
       "      <td>2 BHK Apartment</td>\n",
       "      <td>Vikhroli</td>\n",
       "      <td>582</td>\n",
       "      <td>24,914</td>\n",
       "      <td>1.45 Cr</td>\n",
       "    </tr>\n",
       "    <tr>\n",
       "      <th>...</th>\n",
       "      <td>...</td>\n",
       "      <td>...</td>\n",
       "      <td>...</td>\n",
       "      <td>...</td>\n",
       "      <td>...</td>\n",
       "    </tr>\n",
       "    <tr>\n",
       "      <th>3975</th>\n",
       "      <td>2 BHK Apartment</td>\n",
       "      <td>Vasai</td>\n",
       "      <td>966</td>\n",
       "      <td>4,968</td>\n",
       "      <td>48 L</td>\n",
       "    </tr>\n",
       "    <tr>\n",
       "      <th>3976</th>\n",
       "      <td>1 BHK Apartment</td>\n",
       "      <td>Naigaon East</td>\n",
       "      <td>500</td>\n",
       "      <td>5,200</td>\n",
       "      <td>26 L</td>\n",
       "    </tr>\n",
       "    <tr>\n",
       "      <th>3977</th>\n",
       "      <td>1 BHK Apartment</td>\n",
       "      <td>Naigaon East</td>\n",
       "      <td>610</td>\n",
       "      <td>5,573</td>\n",
       "      <td>34 L</td>\n",
       "    </tr>\n",
       "    <tr>\n",
       "      <th>3978</th>\n",
       "      <td>1 BHK Apartment</td>\n",
       "      <td>Naigaon East</td>\n",
       "      <td>610</td>\n",
       "      <td>5,245</td>\n",
       "      <td>32 L</td>\n",
       "    </tr>\n",
       "    <tr>\n",
       "      <th>3979</th>\n",
       "      <td>1 BHK Apartment</td>\n",
       "      <td>Naigaon East</td>\n",
       "      <td>590</td>\n",
       "      <td>6,101</td>\n",
       "      <td>36 L</td>\n",
       "    </tr>\n",
       "  </tbody>\n",
       "</table>\n",
       "<p>3620 rows × 5 columns</p>\n",
       "</div>"
      ],
      "text/plain": [
       "                  BHK      Location  Total sqft price_sqft    price\n",
       "0     3 BHK Apartment       Chembur         984     31,000  3.05 Cr\n",
       "1     2 BHK Apartment         Kurla         598     23,913  1.42 Cr\n",
       "2     2 BHK Apartment    Malad West         738     21,000  1.54 Cr\n",
       "3     3 BHK Apartment      Rasayani         644     10,676  68.75 L\n",
       "4     2 BHK Apartment      Vikhroli         582     24,914  1.45 Cr\n",
       "...               ...           ...         ...        ...      ...\n",
       "3975  2 BHK Apartment         Vasai         966      4,968     48 L\n",
       "3976  1 BHK Apartment  Naigaon East         500      5,200     26 L\n",
       "3977  1 BHK Apartment  Naigaon East         610      5,573     34 L\n",
       "3978  1 BHK Apartment  Naigaon East         610      5,245     32 L\n",
       "3979  1 BHK Apartment  Naigaon East         590      6,101     36 L\n",
       "\n",
       "[3620 rows x 5 columns]"
      ]
     },
     "execution_count": 26,
     "metadata": {},
     "output_type": "execute_result"
    }
   ],
   "source": [
    "df3"
   ]
  },
  {
   "cell_type": "code",
   "execution_count": 27,
   "metadata": {},
   "outputs": [
    {
     "data": {
      "text/html": [
       "<div>\n",
       "<style scoped>\n",
       "    .dataframe tbody tr th:only-of-type {\n",
       "        vertical-align: middle;\n",
       "    }\n",
       "\n",
       "    .dataframe tbody tr th {\n",
       "        vertical-align: top;\n",
       "    }\n",
       "\n",
       "    .dataframe thead th {\n",
       "        text-align: right;\n",
       "    }\n",
       "</style>\n",
       "<table border=\"1\" class=\"dataframe\">\n",
       "  <thead>\n",
       "    <tr style=\"text-align: right;\">\n",
       "      <th></th>\n",
       "      <th>BHK</th>\n",
       "      <th>Location</th>\n",
       "      <th>Total sqft</th>\n",
       "      <th>price_sqft</th>\n",
       "      <th>price</th>\n",
       "      <th>Bhk</th>\n",
       "    </tr>\n",
       "  </thead>\n",
       "  <tbody>\n",
       "    <tr>\n",
       "      <th>0</th>\n",
       "      <td>3 BHK Apartment</td>\n",
       "      <td>Chembur</td>\n",
       "      <td>984</td>\n",
       "      <td>31,000</td>\n",
       "      <td>3.05 Cr</td>\n",
       "      <td>3</td>\n",
       "    </tr>\n",
       "    <tr>\n",
       "      <th>1</th>\n",
       "      <td>2 BHK Apartment</td>\n",
       "      <td>Kurla</td>\n",
       "      <td>598</td>\n",
       "      <td>23,913</td>\n",
       "      <td>1.42 Cr</td>\n",
       "      <td>2</td>\n",
       "    </tr>\n",
       "    <tr>\n",
       "      <th>2</th>\n",
       "      <td>2 BHK Apartment</td>\n",
       "      <td>Malad West</td>\n",
       "      <td>738</td>\n",
       "      <td>21,000</td>\n",
       "      <td>1.54 Cr</td>\n",
       "      <td>2</td>\n",
       "    </tr>\n",
       "    <tr>\n",
       "      <th>3</th>\n",
       "      <td>3 BHK Apartment</td>\n",
       "      <td>Rasayani</td>\n",
       "      <td>644</td>\n",
       "      <td>10,676</td>\n",
       "      <td>68.75 L</td>\n",
       "      <td>3</td>\n",
       "    </tr>\n",
       "    <tr>\n",
       "      <th>4</th>\n",
       "      <td>2 BHK Apartment</td>\n",
       "      <td>Vikhroli</td>\n",
       "      <td>582</td>\n",
       "      <td>24,914</td>\n",
       "      <td>1.45 Cr</td>\n",
       "      <td>2</td>\n",
       "    </tr>\n",
       "  </tbody>\n",
       "</table>\n",
       "</div>"
      ],
      "text/plain": [
       "               BHK    Location  Total sqft price_sqft    price Bhk\n",
       "0  3 BHK Apartment     Chembur         984     31,000  3.05 Cr   3\n",
       "1  2 BHK Apartment       Kurla         598     23,913  1.42 Cr   2\n",
       "2  2 BHK Apartment  Malad West         738     21,000  1.54 Cr   2\n",
       "3  3 BHK Apartment    Rasayani         644     10,676  68.75 L   3\n",
       "4  2 BHK Apartment    Vikhroli         582     24,914  1.45 Cr   2"
      ]
     },
     "execution_count": 27,
     "metadata": {},
     "output_type": "execute_result"
    }
   ],
   "source": [
    "df3['Bhk']=df3['BHK'].apply(lambda x: x.split(' ')[0])\n",
    "df3.head()"
   ]
  },
  {
   "cell_type": "code",
   "execution_count": 28,
   "metadata": {},
   "outputs": [
    {
     "data": {
      "text/html": [
       "<div>\n",
       "<style scoped>\n",
       "    .dataframe tbody tr th:only-of-type {\n",
       "        vertical-align: middle;\n",
       "    }\n",
       "\n",
       "    .dataframe tbody tr th {\n",
       "        vertical-align: top;\n",
       "    }\n",
       "\n",
       "    .dataframe thead th {\n",
       "        text-align: right;\n",
       "    }\n",
       "</style>\n",
       "<table border=\"1\" class=\"dataframe\">\n",
       "  <thead>\n",
       "    <tr style=\"text-align: right;\">\n",
       "      <th></th>\n",
       "      <th>BHK</th>\n",
       "      <th>Location</th>\n",
       "      <th>Total sqft</th>\n",
       "      <th>price_sqft</th>\n",
       "      <th>price</th>\n",
       "      <th>Bhk</th>\n",
       "    </tr>\n",
       "  </thead>\n",
       "  <tbody>\n",
       "    <tr>\n",
       "      <th>0</th>\n",
       "      <td>3 BHK Apartment</td>\n",
       "      <td>Chembur</td>\n",
       "      <td>984</td>\n",
       "      <td>31,000</td>\n",
       "      <td>3.05 Cr</td>\n",
       "      <td>3</td>\n",
       "    </tr>\n",
       "    <tr>\n",
       "      <th>1</th>\n",
       "      <td>2 BHK Apartment</td>\n",
       "      <td>Kurla</td>\n",
       "      <td>598</td>\n",
       "      <td>23,913</td>\n",
       "      <td>1.42 Cr</td>\n",
       "      <td>2</td>\n",
       "    </tr>\n",
       "    <tr>\n",
       "      <th>2</th>\n",
       "      <td>2 BHK Apartment</td>\n",
       "      <td>Malad West</td>\n",
       "      <td>738</td>\n",
       "      <td>21,000</td>\n",
       "      <td>1.54 Cr</td>\n",
       "      <td>2</td>\n",
       "    </tr>\n",
       "    <tr>\n",
       "      <th>3</th>\n",
       "      <td>3 BHK Apartment</td>\n",
       "      <td>Rasayani</td>\n",
       "      <td>644</td>\n",
       "      <td>10,676</td>\n",
       "      <td>68.75 L</td>\n",
       "      <td>3</td>\n",
       "    </tr>\n",
       "    <tr>\n",
       "      <th>4</th>\n",
       "      <td>2 BHK Apartment</td>\n",
       "      <td>Vikhroli</td>\n",
       "      <td>582</td>\n",
       "      <td>24,914</td>\n",
       "      <td>1.45 Cr</td>\n",
       "      <td>2</td>\n",
       "    </tr>\n",
       "    <tr>\n",
       "      <th>...</th>\n",
       "      <td>...</td>\n",
       "      <td>...</td>\n",
       "      <td>...</td>\n",
       "      <td>...</td>\n",
       "      <td>...</td>\n",
       "      <td>...</td>\n",
       "    </tr>\n",
       "    <tr>\n",
       "      <th>3975</th>\n",
       "      <td>2 BHK Apartment</td>\n",
       "      <td>Vasai</td>\n",
       "      <td>966</td>\n",
       "      <td>4,968</td>\n",
       "      <td>48 L</td>\n",
       "      <td>2</td>\n",
       "    </tr>\n",
       "    <tr>\n",
       "      <th>3976</th>\n",
       "      <td>1 BHK Apartment</td>\n",
       "      <td>Naigaon East</td>\n",
       "      <td>500</td>\n",
       "      <td>5,200</td>\n",
       "      <td>26 L</td>\n",
       "      <td>1</td>\n",
       "    </tr>\n",
       "    <tr>\n",
       "      <th>3977</th>\n",
       "      <td>1 BHK Apartment</td>\n",
       "      <td>Naigaon East</td>\n",
       "      <td>610</td>\n",
       "      <td>5,573</td>\n",
       "      <td>34 L</td>\n",
       "      <td>1</td>\n",
       "    </tr>\n",
       "    <tr>\n",
       "      <th>3978</th>\n",
       "      <td>1 BHK Apartment</td>\n",
       "      <td>Naigaon East</td>\n",
       "      <td>610</td>\n",
       "      <td>5,245</td>\n",
       "      <td>32 L</td>\n",
       "      <td>1</td>\n",
       "    </tr>\n",
       "    <tr>\n",
       "      <th>3979</th>\n",
       "      <td>1 BHK Apartment</td>\n",
       "      <td>Naigaon East</td>\n",
       "      <td>590</td>\n",
       "      <td>6,101</td>\n",
       "      <td>36 L</td>\n",
       "      <td>1</td>\n",
       "    </tr>\n",
       "  </tbody>\n",
       "</table>\n",
       "<p>3620 rows × 6 columns</p>\n",
       "</div>"
      ],
      "text/plain": [
       "                  BHK      Location  Total sqft price_sqft    price Bhk\n",
       "0     3 BHK Apartment       Chembur         984     31,000  3.05 Cr   3\n",
       "1     2 BHK Apartment         Kurla         598     23,913  1.42 Cr   2\n",
       "2     2 BHK Apartment    Malad West         738     21,000  1.54 Cr   2\n",
       "3     3 BHK Apartment      Rasayani         644     10,676  68.75 L   3\n",
       "4     2 BHK Apartment      Vikhroli         582     24,914  1.45 Cr   2\n",
       "...               ...           ...         ...        ...      ...  ..\n",
       "3975  2 BHK Apartment         Vasai         966      4,968     48 L   2\n",
       "3976  1 BHK Apartment  Naigaon East         500      5,200     26 L   1\n",
       "3977  1 BHK Apartment  Naigaon East         610      5,573     34 L   1\n",
       "3978  1 BHK Apartment  Naigaon East         610      5,245     32 L   1\n",
       "3979  1 BHK Apartment  Naigaon East         590      6,101     36 L   1\n",
       "\n",
       "[3620 rows x 6 columns]"
      ]
     },
     "execution_count": 28,
     "metadata": {},
     "output_type": "execute_result"
    }
   ],
   "source": [
    "df4=df3.copy()\n",
    "df4"
   ]
  },
  {
   "cell_type": "code",
   "execution_count": 17,
   "metadata": {},
   "outputs": [
    {
     "data": {
      "text/html": [
       "<div>\n",
       "<style scoped>\n",
       "    .dataframe tbody tr th:only-of-type {\n",
       "        vertical-align: middle;\n",
       "    }\n",
       "\n",
       "    .dataframe tbody tr th {\n",
       "        vertical-align: top;\n",
       "    }\n",
       "\n",
       "    .dataframe thead th {\n",
       "        text-align: right;\n",
       "    }\n",
       "</style>\n",
       "<table border=\"1\" class=\"dataframe\">\n",
       "  <thead>\n",
       "    <tr style=\"text-align: right;\">\n",
       "      <th></th>\n",
       "      <th>Location</th>\n",
       "      <th>Total sqft</th>\n",
       "      <th>price_sqft</th>\n",
       "      <th>price</th>\n",
       "      <th>Bhk</th>\n",
       "    </tr>\n",
       "  </thead>\n",
       "  <tbody>\n",
       "    <tr>\n",
       "      <th>0</th>\n",
       "      <td>Chembur</td>\n",
       "      <td>984</td>\n",
       "      <td>31,000</td>\n",
       "      <td>3.05 Cr</td>\n",
       "      <td>3</td>\n",
       "    </tr>\n",
       "    <tr>\n",
       "      <th>1</th>\n",
       "      <td>Kurla</td>\n",
       "      <td>598</td>\n",
       "      <td>23,913</td>\n",
       "      <td>1.42 Cr</td>\n",
       "      <td>2</td>\n",
       "    </tr>\n",
       "    <tr>\n",
       "      <th>2</th>\n",
       "      <td>Malad West</td>\n",
       "      <td>738</td>\n",
       "      <td>21,000</td>\n",
       "      <td>1.54 Cr</td>\n",
       "      <td>2</td>\n",
       "    </tr>\n",
       "    <tr>\n",
       "      <th>3</th>\n",
       "      <td>Rasayani</td>\n",
       "      <td>644</td>\n",
       "      <td>10,676</td>\n",
       "      <td>68.75 L</td>\n",
       "      <td>3</td>\n",
       "    </tr>\n",
       "    <tr>\n",
       "      <th>4</th>\n",
       "      <td>Vikhroli</td>\n",
       "      <td>582</td>\n",
       "      <td>24,914</td>\n",
       "      <td>1.45 Cr</td>\n",
       "      <td>2</td>\n",
       "    </tr>\n",
       "    <tr>\n",
       "      <th>...</th>\n",
       "      <td>...</td>\n",
       "      <td>...</td>\n",
       "      <td>...</td>\n",
       "      <td>...</td>\n",
       "      <td>...</td>\n",
       "    </tr>\n",
       "    <tr>\n",
       "      <th>3975</th>\n",
       "      <td>Vasai</td>\n",
       "      <td>966</td>\n",
       "      <td>4,968</td>\n",
       "      <td>48 L</td>\n",
       "      <td>2</td>\n",
       "    </tr>\n",
       "    <tr>\n",
       "      <th>3976</th>\n",
       "      <td>Naigaon East</td>\n",
       "      <td>500</td>\n",
       "      <td>5,200</td>\n",
       "      <td>26 L</td>\n",
       "      <td>1</td>\n",
       "    </tr>\n",
       "    <tr>\n",
       "      <th>3977</th>\n",
       "      <td>Naigaon East</td>\n",
       "      <td>610</td>\n",
       "      <td>5,573</td>\n",
       "      <td>34 L</td>\n",
       "      <td>1</td>\n",
       "    </tr>\n",
       "    <tr>\n",
       "      <th>3978</th>\n",
       "      <td>Naigaon East</td>\n",
       "      <td>610</td>\n",
       "      <td>5,245</td>\n",
       "      <td>32 L</td>\n",
       "      <td>1</td>\n",
       "    </tr>\n",
       "    <tr>\n",
       "      <th>3979</th>\n",
       "      <td>Naigaon East</td>\n",
       "      <td>590</td>\n",
       "      <td>6,101</td>\n",
       "      <td>36 L</td>\n",
       "      <td>1</td>\n",
       "    </tr>\n",
       "  </tbody>\n",
       "</table>\n",
       "<p>3620 rows × 5 columns</p>\n",
       "</div>"
      ],
      "text/plain": [
       "          Location  Total sqft price_sqft    price Bhk\n",
       "0          Chembur         984     31,000  3.05 Cr   3\n",
       "1            Kurla         598     23,913  1.42 Cr   2\n",
       "2       Malad West         738     21,000  1.54 Cr   2\n",
       "3         Rasayani         644     10,676  68.75 L   3\n",
       "4         Vikhroli         582     24,914  1.45 Cr   2\n",
       "...            ...         ...        ...      ...  ..\n",
       "3975         Vasai         966      4,968     48 L   2\n",
       "3976  Naigaon East         500      5,200     26 L   1\n",
       "3977  Naigaon East         610      5,573     34 L   1\n",
       "3978  Naigaon East         610      5,245     32 L   1\n",
       "3979  Naigaon East         590      6,101     36 L   1\n",
       "\n",
       "[3620 rows x 5 columns]"
      ]
     },
     "execution_count": 17,
     "metadata": {},
     "output_type": "execute_result"
    }
   ],
   "source": [
    "df4.drop(\"BHK\",axis=\"columns\",inplace=True)\n",
    "df4"
   ]
  },
  {
   "cell_type": "code",
   "execution_count": 29,
   "metadata": {},
   "outputs": [
    {
     "data": {
      "text/plain": [
       "dtype('O')"
      ]
     },
     "execution_count": 29,
     "metadata": {},
     "output_type": "execute_result"
    }
   ],
   "source": [
    "df4[\"Bhk\"].dtype"
   ]
  },
  {
   "cell_type": "code",
   "execution_count": 31,
   "metadata": {},
   "outputs": [
    {
     "data": {
      "text/plain": [
       "array(['3', '2', '1', '4', 'BHK', '5'], dtype=object)"
      ]
     },
     "execution_count": 31,
     "metadata": {},
     "output_type": "execute_result"
    }
   ],
   "source": [
    "df4[\"Bhk\"].unique()"
   ]
  },
  {
   "cell_type": "code",
   "execution_count": 32,
   "metadata": {},
   "outputs": [],
   "source": [
    "mask2=df4[\"Bhk\"]!='BHK'"
   ]
  },
  {
   "cell_type": "code",
   "execution_count": 33,
   "metadata": {},
   "outputs": [
    {
     "data": {
      "text/html": [
       "<div>\n",
       "<style scoped>\n",
       "    .dataframe tbody tr th:only-of-type {\n",
       "        vertical-align: middle;\n",
       "    }\n",
       "\n",
       "    .dataframe tbody tr th {\n",
       "        vertical-align: top;\n",
       "    }\n",
       "\n",
       "    .dataframe thead th {\n",
       "        text-align: right;\n",
       "    }\n",
       "</style>\n",
       "<table border=\"1\" class=\"dataframe\">\n",
       "  <thead>\n",
       "    <tr style=\"text-align: right;\">\n",
       "      <th></th>\n",
       "      <th>BHK</th>\n",
       "      <th>Location</th>\n",
       "      <th>Total sqft</th>\n",
       "      <th>price_sqft</th>\n",
       "      <th>price</th>\n",
       "      <th>Bhk</th>\n",
       "    </tr>\n",
       "  </thead>\n",
       "  <tbody>\n",
       "    <tr>\n",
       "      <th>0</th>\n",
       "      <td>3 BHK Apartment</td>\n",
       "      <td>Chembur</td>\n",
       "      <td>984</td>\n",
       "      <td>31,000</td>\n",
       "      <td>3.05 Cr</td>\n",
       "      <td>3</td>\n",
       "    </tr>\n",
       "    <tr>\n",
       "      <th>1</th>\n",
       "      <td>2 BHK Apartment</td>\n",
       "      <td>Kurla</td>\n",
       "      <td>598</td>\n",
       "      <td>23,913</td>\n",
       "      <td>1.42 Cr</td>\n",
       "      <td>2</td>\n",
       "    </tr>\n",
       "    <tr>\n",
       "      <th>2</th>\n",
       "      <td>2 BHK Apartment</td>\n",
       "      <td>Malad West</td>\n",
       "      <td>738</td>\n",
       "      <td>21,000</td>\n",
       "      <td>1.54 Cr</td>\n",
       "      <td>2</td>\n",
       "    </tr>\n",
       "    <tr>\n",
       "      <th>3</th>\n",
       "      <td>3 BHK Apartment</td>\n",
       "      <td>Rasayani</td>\n",
       "      <td>644</td>\n",
       "      <td>10,676</td>\n",
       "      <td>68.75 L</td>\n",
       "      <td>3</td>\n",
       "    </tr>\n",
       "    <tr>\n",
       "      <th>4</th>\n",
       "      <td>2 BHK Apartment</td>\n",
       "      <td>Vikhroli</td>\n",
       "      <td>582</td>\n",
       "      <td>24,914</td>\n",
       "      <td>1.45 Cr</td>\n",
       "      <td>2</td>\n",
       "    </tr>\n",
       "    <tr>\n",
       "      <th>...</th>\n",
       "      <td>...</td>\n",
       "      <td>...</td>\n",
       "      <td>...</td>\n",
       "      <td>...</td>\n",
       "      <td>...</td>\n",
       "      <td>...</td>\n",
       "    </tr>\n",
       "    <tr>\n",
       "      <th>3975</th>\n",
       "      <td>2 BHK Apartment</td>\n",
       "      <td>Vasai</td>\n",
       "      <td>966</td>\n",
       "      <td>4,968</td>\n",
       "      <td>48 L</td>\n",
       "      <td>2</td>\n",
       "    </tr>\n",
       "    <tr>\n",
       "      <th>3976</th>\n",
       "      <td>1 BHK Apartment</td>\n",
       "      <td>Naigaon East</td>\n",
       "      <td>500</td>\n",
       "      <td>5,200</td>\n",
       "      <td>26 L</td>\n",
       "      <td>1</td>\n",
       "    </tr>\n",
       "    <tr>\n",
       "      <th>3977</th>\n",
       "      <td>1 BHK Apartment</td>\n",
       "      <td>Naigaon East</td>\n",
       "      <td>610</td>\n",
       "      <td>5,573</td>\n",
       "      <td>34 L</td>\n",
       "      <td>1</td>\n",
       "    </tr>\n",
       "    <tr>\n",
       "      <th>3978</th>\n",
       "      <td>1 BHK Apartment</td>\n",
       "      <td>Naigaon East</td>\n",
       "      <td>610</td>\n",
       "      <td>5,245</td>\n",
       "      <td>32 L</td>\n",
       "      <td>1</td>\n",
       "    </tr>\n",
       "    <tr>\n",
       "      <th>3979</th>\n",
       "      <td>1 BHK Apartment</td>\n",
       "      <td>Naigaon East</td>\n",
       "      <td>590</td>\n",
       "      <td>6,101</td>\n",
       "      <td>36 L</td>\n",
       "      <td>1</td>\n",
       "    </tr>\n",
       "  </tbody>\n",
       "</table>\n",
       "<p>3607 rows × 6 columns</p>\n",
       "</div>"
      ],
      "text/plain": [
       "                  BHK      Location  Total sqft price_sqft    price Bhk\n",
       "0     3 BHK Apartment       Chembur         984     31,000  3.05 Cr   3\n",
       "1     2 BHK Apartment         Kurla         598     23,913  1.42 Cr   2\n",
       "2     2 BHK Apartment    Malad West         738     21,000  1.54 Cr   2\n",
       "3     3 BHK Apartment      Rasayani         644     10,676  68.75 L   3\n",
       "4     2 BHK Apartment      Vikhroli         582     24,914  1.45 Cr   2\n",
       "...               ...           ...         ...        ...      ...  ..\n",
       "3975  2 BHK Apartment         Vasai         966      4,968     48 L   2\n",
       "3976  1 BHK Apartment  Naigaon East         500      5,200     26 L   1\n",
       "3977  1 BHK Apartment  Naigaon East         610      5,573     34 L   1\n",
       "3978  1 BHK Apartment  Naigaon East         610      5,245     32 L   1\n",
       "3979  1 BHK Apartment  Naigaon East         590      6,101     36 L   1\n",
       "\n",
       "[3607 rows x 6 columns]"
      ]
     },
     "execution_count": 33,
     "metadata": {},
     "output_type": "execute_result"
    }
   ],
   "source": [
    "df5=df4[mask2]\n",
    "df5"
   ]
  },
  {
   "cell_type": "code",
   "execution_count": 34,
   "metadata": {},
   "outputs": [
    {
     "data": {
      "text/plain": [
       "array(['3', '2', '1', '4', '5'], dtype=object)"
      ]
     },
     "execution_count": 34,
     "metadata": {},
     "output_type": "execute_result"
    }
   ],
   "source": [
    "df5[\"Bhk\"].unique()"
   ]
  },
  {
   "cell_type": "code",
   "execution_count": 35,
   "metadata": {},
   "outputs": [],
   "source": [
    "df5.to_csv('df5.csv', index=False)"
   ]
  },
  {
   "cell_type": "markdown",
   "metadata": {},
   "source": [
    "Converting the price column into proper numerical digits"
   ]
  },
  {
   "cell_type": "code",
   "execution_count": 37,
   "metadata": {},
   "outputs": [
    {
     "data": {
      "text/plain": [
       "dtype('O')"
      ]
     },
     "execution_count": 37,
     "metadata": {},
     "output_type": "execute_result"
    }
   ],
   "source": [
    "df5['price'].dtype"
   ]
  },
  {
   "cell_type": "code",
   "execution_count": 38,
   "metadata": {},
   "outputs": [],
   "source": [
    "conversion_factors = {'L': 1_00_000, 'Cr': 1_00_00_000}\n",
    "\n",
    "def convert_price(price_str):\n",
    "    if isinstance(price_str, object):\n",
    "        value, unit = price_str.split()  # Split value and unit\n",
    "        return float(value) * conversion_factors[unit]  # Convert value to numeric\n",
    "    return price_str\n",
    "\n"
   ]
  },
  {
   "cell_type": "code",
   "execution_count": 39,
   "metadata": {},
   "outputs": [],
   "source": [
    "df5[\"price\"] = df5[\"price\"].apply(convert_price)"
   ]
  },
  {
   "cell_type": "code",
   "execution_count": 41,
   "metadata": {},
   "outputs": [
    {
     "data": {
      "text/html": [
       "<div>\n",
       "<style scoped>\n",
       "    .dataframe tbody tr th:only-of-type {\n",
       "        vertical-align: middle;\n",
       "    }\n",
       "\n",
       "    .dataframe tbody tr th {\n",
       "        vertical-align: top;\n",
       "    }\n",
       "\n",
       "    .dataframe thead th {\n",
       "        text-align: right;\n",
       "    }\n",
       "</style>\n",
       "<table border=\"1\" class=\"dataframe\">\n",
       "  <thead>\n",
       "    <tr style=\"text-align: right;\">\n",
       "      <th></th>\n",
       "      <th>BHK</th>\n",
       "      <th>Location</th>\n",
       "      <th>Total sqft</th>\n",
       "      <th>price_sqft</th>\n",
       "      <th>price</th>\n",
       "      <th>Bhk</th>\n",
       "    </tr>\n",
       "  </thead>\n",
       "  <tbody>\n",
       "    <tr>\n",
       "      <th>0</th>\n",
       "      <td>3 BHK Apartment</td>\n",
       "      <td>Chembur</td>\n",
       "      <td>984</td>\n",
       "      <td>31,000</td>\n",
       "      <td>30500000.0</td>\n",
       "      <td>3</td>\n",
       "    </tr>\n",
       "    <tr>\n",
       "      <th>1</th>\n",
       "      <td>2 BHK Apartment</td>\n",
       "      <td>Kurla</td>\n",
       "      <td>598</td>\n",
       "      <td>23,913</td>\n",
       "      <td>14200000.0</td>\n",
       "      <td>2</td>\n",
       "    </tr>\n",
       "    <tr>\n",
       "      <th>2</th>\n",
       "      <td>2 BHK Apartment</td>\n",
       "      <td>Malad West</td>\n",
       "      <td>738</td>\n",
       "      <td>21,000</td>\n",
       "      <td>15400000.0</td>\n",
       "      <td>2</td>\n",
       "    </tr>\n",
       "    <tr>\n",
       "      <th>3</th>\n",
       "      <td>3 BHK Apartment</td>\n",
       "      <td>Rasayani</td>\n",
       "      <td>644</td>\n",
       "      <td>10,676</td>\n",
       "      <td>6875000.0</td>\n",
       "      <td>3</td>\n",
       "    </tr>\n",
       "    <tr>\n",
       "      <th>4</th>\n",
       "      <td>2 BHK Apartment</td>\n",
       "      <td>Vikhroli</td>\n",
       "      <td>582</td>\n",
       "      <td>24,914</td>\n",
       "      <td>14500000.0</td>\n",
       "      <td>2</td>\n",
       "    </tr>\n",
       "    <tr>\n",
       "      <th>...</th>\n",
       "      <td>...</td>\n",
       "      <td>...</td>\n",
       "      <td>...</td>\n",
       "      <td>...</td>\n",
       "      <td>...</td>\n",
       "      <td>...</td>\n",
       "    </tr>\n",
       "    <tr>\n",
       "      <th>3975</th>\n",
       "      <td>2 BHK Apartment</td>\n",
       "      <td>Vasai</td>\n",
       "      <td>966</td>\n",
       "      <td>4,968</td>\n",
       "      <td>4800000.0</td>\n",
       "      <td>2</td>\n",
       "    </tr>\n",
       "    <tr>\n",
       "      <th>3976</th>\n",
       "      <td>1 BHK Apartment</td>\n",
       "      <td>Naigaon East</td>\n",
       "      <td>500</td>\n",
       "      <td>5,200</td>\n",
       "      <td>2600000.0</td>\n",
       "      <td>1</td>\n",
       "    </tr>\n",
       "    <tr>\n",
       "      <th>3977</th>\n",
       "      <td>1 BHK Apartment</td>\n",
       "      <td>Naigaon East</td>\n",
       "      <td>610</td>\n",
       "      <td>5,573</td>\n",
       "      <td>3400000.0</td>\n",
       "      <td>1</td>\n",
       "    </tr>\n",
       "    <tr>\n",
       "      <th>3978</th>\n",
       "      <td>1 BHK Apartment</td>\n",
       "      <td>Naigaon East</td>\n",
       "      <td>610</td>\n",
       "      <td>5,245</td>\n",
       "      <td>3200000.0</td>\n",
       "      <td>1</td>\n",
       "    </tr>\n",
       "    <tr>\n",
       "      <th>3979</th>\n",
       "      <td>1 BHK Apartment</td>\n",
       "      <td>Naigaon East</td>\n",
       "      <td>590</td>\n",
       "      <td>6,101</td>\n",
       "      <td>3600000.0</td>\n",
       "      <td>1</td>\n",
       "    </tr>\n",
       "  </tbody>\n",
       "</table>\n",
       "<p>3607 rows × 6 columns</p>\n",
       "</div>"
      ],
      "text/plain": [
       "                  BHK      Location  Total sqft price_sqft       price Bhk\n",
       "0     3 BHK Apartment       Chembur         984     31,000  30500000.0   3\n",
       "1     2 BHK Apartment         Kurla         598     23,913  14200000.0   2\n",
       "2     2 BHK Apartment    Malad West         738     21,000  15400000.0   2\n",
       "3     3 BHK Apartment      Rasayani         644     10,676   6875000.0   3\n",
       "4     2 BHK Apartment      Vikhroli         582     24,914  14500000.0   2\n",
       "...               ...           ...         ...        ...         ...  ..\n",
       "3975  2 BHK Apartment         Vasai         966      4,968   4800000.0   2\n",
       "3976  1 BHK Apartment  Naigaon East         500      5,200   2600000.0   1\n",
       "3977  1 BHK Apartment  Naigaon East         610      5,573   3400000.0   1\n",
       "3978  1 BHK Apartment  Naigaon East         610      5,245   3200000.0   1\n",
       "3979  1 BHK Apartment  Naigaon East         590      6,101   3600000.0   1\n",
       "\n",
       "[3607 rows x 6 columns]"
      ]
     },
     "execution_count": 41,
     "metadata": {},
     "output_type": "execute_result"
    }
   ],
   "source": [
    "df6=df5.copy()\n",
    "df6"
   ]
  },
  {
   "cell_type": "code",
   "execution_count": 45,
   "metadata": {},
   "outputs": [
    {
     "data": {
      "text/plain": [
       "BHK           2 BHK Apartment\n",
       "Location        Badlapur West\n",
       "Total sqft                485\n",
       "price_sqft              6,670\n",
       "price               3235000.0\n",
       "Bhk                         2\n",
       "Name: 121, dtype: object"
      ]
     },
     "execution_count": 45,
     "metadata": {},
     "output_type": "execute_result"
    }
   ],
   "source": [
    "df6.loc[121]"
   ]
  },
  {
   "cell_type": "code",
   "execution_count": 46,
   "metadata": {},
   "outputs": [
    {
     "data": {
      "text/plain": [
       "BHK           2 BHK Apartment\n",
       "Location          Bandra West\n",
       "Total sqft                790\n",
       "price_sqft             47,468\n",
       "price              37500000.0\n",
       "Bhk                         2\n",
       "Name: 345, dtype: object"
      ]
     },
     "execution_count": 46,
     "metadata": {},
     "output_type": "execute_result"
    }
   ],
   "source": [
    "df6.loc[345]"
   ]
  },
  {
   "cell_type": "code",
   "execution_count": 47,
   "metadata": {},
   "outputs": [
    {
     "data": {
      "text/plain": [
       "168"
      ]
     },
     "execution_count": 47,
     "metadata": {},
     "output_type": "execute_result"
    }
   ],
   "source": [
    "len(df6['Location'].unique())"
   ]
  },
  {
   "cell_type": "code",
   "execution_count": 48,
   "metadata": {},
   "outputs": [
    {
     "data": {
      "text/plain": [
       "(3607, 6)"
      ]
     },
     "execution_count": 48,
     "metadata": {},
     "output_type": "execute_result"
    }
   ],
   "source": [
    "df6.shape"
   ]
  },
  {
   "cell_type": "code",
   "execution_count": 49,
   "metadata": {},
   "outputs": [
    {
     "data": {
      "text/plain": [
       "Location\n",
       "Andheri West      291\n",
       "Mira Road East    280\n",
       "Dombivali         227\n",
       "Virar             186\n",
       "Thane West        147\n",
       "                 ... \n",
       "Kasheli             1\n",
       "Atgaon              1\n",
       "Kamathipura         1\n",
       "Datiwali Gaon       1\n",
       "Shelu               1\n",
       "Name: Location, Length: 168, dtype: int64"
      ]
     },
     "execution_count": 49,
     "metadata": {},
     "output_type": "execute_result"
    }
   ],
   "source": [
    "location_stats=df6.groupby('Location')['Location'].agg('count').sort_values(ascending=False)\n",
    "location_stats"
   ]
  },
  {
   "cell_type": "code",
   "execution_count": 54,
   "metadata": {},
   "outputs": [],
   "source": [
    "df6[\"price_sqft\"]=df6[\"price_sqft\"].str.replace(\",\",'').astype(float)"
   ]
  },
  {
   "cell_type": "code",
   "execution_count": 55,
   "metadata": {},
   "outputs": [
    {
     "data": {
      "text/plain": [
       "count     3607.000000\n",
       "mean     12719.490435\n",
       "std      10014.606775\n",
       "min       1520.000000\n",
       "25%       5474.500000\n",
       "50%       9841.000000\n",
       "75%      17187.000000\n",
       "max      79166.000000\n",
       "Name: price_sqft, dtype: float64"
      ]
     },
     "execution_count": 55,
     "metadata": {},
     "output_type": "execute_result"
    }
   ],
   "source": [
    "df6.price_sqft.describe()"
   ]
  },
  {
   "cell_type": "code",
   "execution_count": 63,
   "metadata": {},
   "outputs": [
    {
     "data": {
      "text/html": [
       "<div>\n",
       "<style scoped>\n",
       "    .dataframe tbody tr th:only-of-type {\n",
       "        vertical-align: middle;\n",
       "    }\n",
       "\n",
       "    .dataframe tbody tr th {\n",
       "        vertical-align: top;\n",
       "    }\n",
       "\n",
       "    .dataframe thead th {\n",
       "        text-align: right;\n",
       "    }\n",
       "</style>\n",
       "<table border=\"1\" class=\"dataframe\">\n",
       "  <thead>\n",
       "    <tr style=\"text-align: right;\">\n",
       "      <th></th>\n",
       "      <th>BHK</th>\n",
       "      <th>Location</th>\n",
       "      <th>Total sqft</th>\n",
       "      <th>price_sqft</th>\n",
       "      <th>price</th>\n",
       "      <th>Bhk</th>\n",
       "    </tr>\n",
       "  </thead>\n",
       "  <tbody>\n",
       "    <tr>\n",
       "      <th>0</th>\n",
       "      <td>3 BHK Apartment</td>\n",
       "      <td>Chembur</td>\n",
       "      <td>984</td>\n",
       "      <td>31000.0</td>\n",
       "      <td>30500000.0</td>\n",
       "      <td>3</td>\n",
       "    </tr>\n",
       "    <tr>\n",
       "      <th>1</th>\n",
       "      <td>2 BHK Apartment</td>\n",
       "      <td>Kurla</td>\n",
       "      <td>598</td>\n",
       "      <td>23913.0</td>\n",
       "      <td>14200000.0</td>\n",
       "      <td>2</td>\n",
       "    </tr>\n",
       "    <tr>\n",
       "      <th>2</th>\n",
       "      <td>2 BHK Apartment</td>\n",
       "      <td>Malad West</td>\n",
       "      <td>738</td>\n",
       "      <td>21000.0</td>\n",
       "      <td>15400000.0</td>\n",
       "      <td>2</td>\n",
       "    </tr>\n",
       "    <tr>\n",
       "      <th>3</th>\n",
       "      <td>3 BHK Apartment</td>\n",
       "      <td>Rasayani</td>\n",
       "      <td>644</td>\n",
       "      <td>10676.0</td>\n",
       "      <td>6875000.0</td>\n",
       "      <td>3</td>\n",
       "    </tr>\n",
       "    <tr>\n",
       "      <th>4</th>\n",
       "      <td>2 BHK Apartment</td>\n",
       "      <td>Vikhroli</td>\n",
       "      <td>582</td>\n",
       "      <td>24914.0</td>\n",
       "      <td>14500000.0</td>\n",
       "      <td>2</td>\n",
       "    </tr>\n",
       "    <tr>\n",
       "      <th>...</th>\n",
       "      <td>...</td>\n",
       "      <td>...</td>\n",
       "      <td>...</td>\n",
       "      <td>...</td>\n",
       "      <td>...</td>\n",
       "      <td>...</td>\n",
       "    </tr>\n",
       "    <tr>\n",
       "      <th>3975</th>\n",
       "      <td>2 BHK Apartment</td>\n",
       "      <td>Vasai</td>\n",
       "      <td>966</td>\n",
       "      <td>4968.0</td>\n",
       "      <td>4800000.0</td>\n",
       "      <td>2</td>\n",
       "    </tr>\n",
       "    <tr>\n",
       "      <th>3976</th>\n",
       "      <td>1 BHK Apartment</td>\n",
       "      <td>Naigaon East</td>\n",
       "      <td>500</td>\n",
       "      <td>5200.0</td>\n",
       "      <td>2600000.0</td>\n",
       "      <td>1</td>\n",
       "    </tr>\n",
       "    <tr>\n",
       "      <th>3977</th>\n",
       "      <td>1 BHK Apartment</td>\n",
       "      <td>Naigaon East</td>\n",
       "      <td>610</td>\n",
       "      <td>5573.0</td>\n",
       "      <td>3400000.0</td>\n",
       "      <td>1</td>\n",
       "    </tr>\n",
       "    <tr>\n",
       "      <th>3978</th>\n",
       "      <td>1 BHK Apartment</td>\n",
       "      <td>Naigaon East</td>\n",
       "      <td>610</td>\n",
       "      <td>5245.0</td>\n",
       "      <td>3200000.0</td>\n",
       "      <td>1</td>\n",
       "    </tr>\n",
       "    <tr>\n",
       "      <th>3979</th>\n",
       "      <td>1 BHK Apartment</td>\n",
       "      <td>Naigaon East</td>\n",
       "      <td>590</td>\n",
       "      <td>6101.0</td>\n",
       "      <td>3600000.0</td>\n",
       "      <td>1</td>\n",
       "    </tr>\n",
       "  </tbody>\n",
       "</table>\n",
       "<p>3607 rows × 6 columns</p>\n",
       "</div>"
      ],
      "text/plain": [
       "                  BHK      Location  Total sqft  price_sqft       price Bhk\n",
       "0     3 BHK Apartment       Chembur         984     31000.0  30500000.0   3\n",
       "1     2 BHK Apartment         Kurla         598     23913.0  14200000.0   2\n",
       "2     2 BHK Apartment    Malad West         738     21000.0  15400000.0   2\n",
       "3     3 BHK Apartment      Rasayani         644     10676.0   6875000.0   3\n",
       "4     2 BHK Apartment      Vikhroli         582     24914.0  14500000.0   2\n",
       "...               ...           ...         ...         ...         ...  ..\n",
       "3975  2 BHK Apartment         Vasai         966      4968.0   4800000.0   2\n",
       "3976  1 BHK Apartment  Naigaon East         500      5200.0   2600000.0   1\n",
       "3977  1 BHK Apartment  Naigaon East         610      5573.0   3400000.0   1\n",
       "3978  1 BHK Apartment  Naigaon East         610      5245.0   3200000.0   1\n",
       "3979  1 BHK Apartment  Naigaon East         590      6101.0   3600000.0   1\n",
       "\n",
       "[3607 rows x 6 columns]"
      ]
     },
     "execution_count": 63,
     "metadata": {},
     "output_type": "execute_result"
    }
   ],
   "source": [
    "df6"
   ]
  },
  {
   "cell_type": "code",
   "execution_count": 64,
   "metadata": {},
   "outputs": [],
   "source": [
    "df6.rename(columns={'Total sqft': 'total_sqft'}, inplace=True)"
   ]
  },
  {
   "cell_type": "code",
   "execution_count": 72,
   "metadata": {},
   "outputs": [],
   "source": [
    "df6.Bhk=df6.Bhk.astype(int)"
   ]
  },
  {
   "cell_type": "code",
   "execution_count": 92,
   "metadata": {},
   "outputs": [],
   "source": [
    "def plot_scatter_chart(df,location):\n",
    "    bhk2=df[(df.Location==location) & (df.Bhk==2)]\n",
    "    bhk3=df[(df.Location==location) & (df.Bhk==3)]\n",
    "    plt.scatter(bhk2.total_sqft,bhk2.price,color='blue',label='2 BHK', s=50)\n",
    "    plt.scatter(bhk3.total_sqft,bhk3.price,marker='+', color='green',label='3 BHK', s=50)\n",
    "    plt.xlabel(\"Total Square Feet Area\")\n",
    "    plt.ylabel(\"Price (Lakh Indian Rupees)\")\n",
    "    plt.title(location)\n",
    "    plt.legend()\n",
    "    plt.show()\n",
    "\n"
   ]
  },
  {
   "cell_type": "code",
   "execution_count": 99,
   "metadata": {},
   "outputs": [
    {
     "data": {
      "image/png": "[encoded data removed]",
      "text/plain": [
       "<Figure size 2000x1000 with 1 Axes>"
      ]
     },
     "metadata": {},
     "output_type": "display_data"
    }
   ],
   "source": [
    "plot_scatter_chart(df6,\"Thane West\")"
   ]
  },
  {
   "cell_type": "code",
   "execution_count": 102,
   "metadata": {},
   "outputs": [
    {
     "data": {
      "text/plain": [
       "<pandas.core.groupby.generic.DataFrameGroupBy object at 0x000001926E8BD0C0>"
      ]
     },
     "execution_count": 102,
     "metadata": {},
     "output_type": "execute_result"
    }
   ],
   "source": [
    "df6.groupby('Location')"
   ]
  },
  {
   "cell_type": "code",
   "execution_count": 94,
   "metadata": {},
   "outputs": [],
   "source": [
    "def remove_Bhk_outliers(df):\n",
    "    exclude_indices = np.array([])\n",
    "    for location, location_df in df.groupby('Location'):\n",
    "        Bhk_stats = {}\n",
    "        for Bhk, Bhk_df in location_df.groupby('Bhk'):\n",
    "            Bhk_stats[Bhk] = {\n",
    "                'mean': np.mean(Bhk_df.price_sqft),\n",
    "                'std': np.std(Bhk_df.price_sqft),\n",
    "                'count': Bhk_df.shape[0]\n",
    "            }\n",
    "        for Bhk, Bhk_df in location_df.groupby('Bhk'):\n",
    "            stats = Bhk_stats.get(Bhk-1)\n",
    "            if stats and stats['count']>5:\n",
    "                exclude_indices = np.append(exclude_indices, Bhk_df[Bhk_df.price_sqft<(stats['mean'])].index.values)\n",
    "    return df.drop(exclude_indices,axis='index')\n",
    "\n"
   ]
  },
  {
   "cell_type": "code",
   "execution_count": 95,
   "metadata": {},
   "outputs": [
    {
     "data": {
      "text/plain": [
       "(3607, 6)"
      ]
     },
     "execution_count": 95,
     "metadata": {},
     "output_type": "execute_result"
    }
   ],
   "source": [
    "df6.shape"
   ]
  },
  {
   "cell_type": "code",
   "execution_count": 96,
   "metadata": {},
   "outputs": [],
   "source": [
    "df7=remove_Bhk_outliers(df6)"
   ]
  },
  {
   "cell_type": "code",
   "execution_count": 97,
   "metadata": {},
   "outputs": [
    {
     "data": {
      "text/plain": [
       "(2947, 6)"
      ]
     },
     "execution_count": 97,
     "metadata": {},
     "output_type": "execute_result"
    }
   ],
   "source": [
    "df7.shape"
   ]
  },
  {
   "cell_type": "code",
   "execution_count": 98,
   "metadata": {},
   "outputs": [
    {
     "data": {
      "image/png": "[encoded data removed]",
      "text/plain": [
       "<Figure size 2000x1000 with 1 Axes>"
      ]
     },
     "metadata": {},
     "output_type": "display_data"
    }
   ],
   "source": [
    "plot_scatter_chart(df7,\"Thane West\")"
   ]
  },
  {
   "cell_type": "code",
   "execution_count": 103,
   "metadata": {},
   "outputs": [
    {
     "data": {
      "text/plain": [
       "Text(0, 0.5, 'Count')"
      ]
     },
     "execution_count": 103,
     "metadata": {},
     "output_type": "execute_result"
    },
    {
     "data": {
      "image/png": "[encoded data removed]",
      "text/plain": [
       "<Figure size 2000x1000 with 1 Axes>"
      ]
     },
     "metadata": {},
     "output_type": "display_data"
    }
   ],
   "source": [
    "plt.hist(df7.price_sqft,rwidth=0.8)\n",
    "plt.xlabel(\"Price Per Square Feet\")\n",
    "plt.ylabel(\"Count\")"
   ]
  },
  {
   "cell_type": "code",
   "execution_count": 107,
   "metadata": {},
   "outputs": [
    {
     "data": {
      "text/html": [
       "<div>\n",
       "<style scoped>\n",
       "    .dataframe tbody tr th:only-of-type {\n",
       "        vertical-align: middle;\n",
       "    }\n",
       "\n",
       "    .dataframe tbody tr th {\n",
       "        vertical-align: top;\n",
       "    }\n",
       "\n",
       "    .dataframe thead th {\n",
       "        text-align: right;\n",
       "    }\n",
       "</style>\n",
       "<table border=\"1\" class=\"dataframe\">\n",
       "  <thead>\n",
       "    <tr style=\"text-align: right;\">\n",
       "      <th></th>\n",
       "      <th>BHK</th>\n",
       "      <th>Location</th>\n",
       "      <th>total_sqft</th>\n",
       "      <th>price_sqft</th>\n",
       "      <th>price</th>\n",
       "      <th>Bhk</th>\n",
       "    </tr>\n",
       "  </thead>\n",
       "  <tbody>\n",
       "    <tr>\n",
       "      <th>846</th>\n",
       "      <td>4 BHK Apartment</td>\n",
       "      <td>Juhu</td>\n",
       "      <td>2400</td>\n",
       "      <td>79166.0</td>\n",
       "      <td>190000000.0</td>\n",
       "      <td>4</td>\n",
       "    </tr>\n",
       "    <tr>\n",
       "      <th>1190</th>\n",
       "      <td>4 BHK Apartment</td>\n",
       "      <td>Juhu</td>\n",
       "      <td>2400</td>\n",
       "      <td>79166.0</td>\n",
       "      <td>190000000.0</td>\n",
       "      <td>4</td>\n",
       "    </tr>\n",
       "    <tr>\n",
       "      <th>1399</th>\n",
       "      <td>4 BHK Apartment</td>\n",
       "      <td>Juhu</td>\n",
       "      <td>2400</td>\n",
       "      <td>79166.0</td>\n",
       "      <td>190000000.0</td>\n",
       "      <td>4</td>\n",
       "    </tr>\n",
       "    <tr>\n",
       "      <th>2865</th>\n",
       "      <td>2 BHK Apartment</td>\n",
       "      <td>Bandra West</td>\n",
       "      <td>1100</td>\n",
       "      <td>77272.0</td>\n",
       "      <td>85000000.0</td>\n",
       "      <td>2</td>\n",
       "    </tr>\n",
       "  </tbody>\n",
       "</table>\n",
       "</div>"
      ],
      "text/plain": [
       "                  BHK     Location  total_sqft  price_sqft        price  Bhk\n",
       "846   4 BHK Apartment         Juhu        2400     79166.0  190000000.0    4\n",
       "1190  4 BHK Apartment         Juhu        2400     79166.0  190000000.0    4\n",
       "1399  4 BHK Apartment         Juhu        2400     79166.0  190000000.0    4\n",
       "2865  2 BHK Apartment  Bandra West        1100     77272.0   85000000.0    2"
      ]
     },
     "execution_count": 107,
     "metadata": {},
     "output_type": "execute_result"
    }
   ],
   "source": [
    "hugehousedf=df6[df6['price_sqft'] > 70000]\n",
    "hugehousedf"
   ]
  },
  {
   "cell_type": "code",
   "execution_count": null,
   "metadata": {},
   "outputs": [],
   "source": []
  }
 ],
 "metadata": {
  "kernelspec": {
   "display_name": "Python 3 (ipykernel)",
   "language": "python",
   "name": "python3"
  },
  "language_info": {
   "codemirror_mode": {
    "name": "ipython",
    "version": 3
   },
   "file_extension": ".py",
   "mimetype": "text/x-python",
   "name": "python",
   "nbconvert_exporter": "python",
   "pygments_lexer": "ipython3",
   "version": "3.10.9"
  },
  "orig_nbformat": 4
 },
 "nbformat": 4,
 "nbformat_minor": 2
}
